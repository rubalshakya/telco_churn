{
 "cells": [
  {
   "cell_type": "code",
   "execution_count": 1,
   "id": "69d22f86",
   "metadata": {},
   "outputs": [],
   "source": [
    "import pandas as pd\n",
    "import numpy as np\n",
    "\n",
    "import seaborn as snss\n",
    "import matplotlib.pyplot as plt\n",
    "\n",
    "from sklearn.metrics import accuracy_score,classification_report,confusion_matrix,roc_auc_score,roc_curve\n",
    "from sklearn.model_selection import train_test_split,GridSearchCV,RandomizedSearchCV\n",
    "from sklearn.linear_model import LogisticRegression,Ridge,Lasso,RidgeClassifier\n",
    "from sklearn.tree import DecisionTreeClassifier\n",
    "from sklearn.ensemble import RandomForestClassifier\n",
    "from sklearn.neighbors import KNeighborsClassifier\n",
    "import pickle,json\n",
    "import warnings\n",
    "warnings.filterwarnings(\"ignore\")"
   ]
  },
  {
   "cell_type": "code",
   "execution_count": 2,
   "id": "c597c63e",
   "metadata": {},
   "outputs": [
    {
     "data": {
      "text/html": [
       "<div>\n",
       "<style scoped>\n",
       "    .dataframe tbody tr th:only-of-type {\n",
       "        vertical-align: middle;\n",
       "    }\n",
       "\n",
       "    .dataframe tbody tr th {\n",
       "        vertical-align: top;\n",
       "    }\n",
       "\n",
       "    .dataframe thead th {\n",
       "        text-align: right;\n",
       "    }\n",
       "</style>\n",
       "<table border=\"1\" class=\"dataframe\">\n",
       "  <thead>\n",
       "    <tr style=\"text-align: right;\">\n",
       "      <th></th>\n",
       "      <th>customerID</th>\n",
       "      <th>gender</th>\n",
       "      <th>SeniorCitizen</th>\n",
       "      <th>Partner</th>\n",
       "      <th>Dependents</th>\n",
       "      <th>tenure</th>\n",
       "      <th>PhoneService</th>\n",
       "      <th>MultipleLines</th>\n",
       "      <th>InternetService</th>\n",
       "      <th>OnlineSecurity</th>\n",
       "      <th>...</th>\n",
       "      <th>DeviceProtection</th>\n",
       "      <th>TechSupport</th>\n",
       "      <th>StreamingTV</th>\n",
       "      <th>StreamingMovies</th>\n",
       "      <th>Contract</th>\n",
       "      <th>PaperlessBilling</th>\n",
       "      <th>PaymentMethod</th>\n",
       "      <th>MonthlyCharges</th>\n",
       "      <th>TotalCharges</th>\n",
       "      <th>Churn</th>\n",
       "    </tr>\n",
       "  </thead>\n",
       "  <tbody>\n",
       "    <tr>\n",
       "      <th>0</th>\n",
       "      <td>7590-VHVEG</td>\n",
       "      <td>Female</td>\n",
       "      <td>0</td>\n",
       "      <td>Yes</td>\n",
       "      <td>No</td>\n",
       "      <td>1</td>\n",
       "      <td>No</td>\n",
       "      <td>No phone service</td>\n",
       "      <td>DSL</td>\n",
       "      <td>No</td>\n",
       "      <td>...</td>\n",
       "      <td>No</td>\n",
       "      <td>No</td>\n",
       "      <td>No</td>\n",
       "      <td>No</td>\n",
       "      <td>Month-to-month</td>\n",
       "      <td>Yes</td>\n",
       "      <td>Electronic check</td>\n",
       "      <td>29.85</td>\n",
       "      <td>29.85</td>\n",
       "      <td>No</td>\n",
       "    </tr>\n",
       "    <tr>\n",
       "      <th>1</th>\n",
       "      <td>5575-GNVDE</td>\n",
       "      <td>Male</td>\n",
       "      <td>0</td>\n",
       "      <td>No</td>\n",
       "      <td>No</td>\n",
       "      <td>34</td>\n",
       "      <td>Yes</td>\n",
       "      <td>No</td>\n",
       "      <td>DSL</td>\n",
       "      <td>Yes</td>\n",
       "      <td>...</td>\n",
       "      <td>Yes</td>\n",
       "      <td>No</td>\n",
       "      <td>No</td>\n",
       "      <td>No</td>\n",
       "      <td>One year</td>\n",
       "      <td>No</td>\n",
       "      <td>Mailed check</td>\n",
       "      <td>56.95</td>\n",
       "      <td>1889.5</td>\n",
       "      <td>No</td>\n",
       "    </tr>\n",
       "    <tr>\n",
       "      <th>2</th>\n",
       "      <td>3668-QPYBK</td>\n",
       "      <td>Male</td>\n",
       "      <td>0</td>\n",
       "      <td>No</td>\n",
       "      <td>No</td>\n",
       "      <td>2</td>\n",
       "      <td>Yes</td>\n",
       "      <td>No</td>\n",
       "      <td>DSL</td>\n",
       "      <td>Yes</td>\n",
       "      <td>...</td>\n",
       "      <td>No</td>\n",
       "      <td>No</td>\n",
       "      <td>No</td>\n",
       "      <td>No</td>\n",
       "      <td>Month-to-month</td>\n",
       "      <td>Yes</td>\n",
       "      <td>Mailed check</td>\n",
       "      <td>53.85</td>\n",
       "      <td>108.15</td>\n",
       "      <td>Yes</td>\n",
       "    </tr>\n",
       "    <tr>\n",
       "      <th>3</th>\n",
       "      <td>7795-CFOCW</td>\n",
       "      <td>Male</td>\n",
       "      <td>0</td>\n",
       "      <td>No</td>\n",
       "      <td>No</td>\n",
       "      <td>45</td>\n",
       "      <td>No</td>\n",
       "      <td>No phone service</td>\n",
       "      <td>DSL</td>\n",
       "      <td>Yes</td>\n",
       "      <td>...</td>\n",
       "      <td>Yes</td>\n",
       "      <td>Yes</td>\n",
       "      <td>No</td>\n",
       "      <td>No</td>\n",
       "      <td>One year</td>\n",
       "      <td>No</td>\n",
       "      <td>Bank transfer (automatic)</td>\n",
       "      <td>42.30</td>\n",
       "      <td>1840.75</td>\n",
       "      <td>No</td>\n",
       "    </tr>\n",
       "    <tr>\n",
       "      <th>4</th>\n",
       "      <td>9237-HQITU</td>\n",
       "      <td>Female</td>\n",
       "      <td>0</td>\n",
       "      <td>No</td>\n",
       "      <td>No</td>\n",
       "      <td>2</td>\n",
       "      <td>Yes</td>\n",
       "      <td>No</td>\n",
       "      <td>Fiber optic</td>\n",
       "      <td>No</td>\n",
       "      <td>...</td>\n",
       "      <td>No</td>\n",
       "      <td>No</td>\n",
       "      <td>No</td>\n",
       "      <td>No</td>\n",
       "      <td>Month-to-month</td>\n",
       "      <td>Yes</td>\n",
       "      <td>Electronic check</td>\n",
       "      <td>70.70</td>\n",
       "      <td>151.65</td>\n",
       "      <td>Yes</td>\n",
       "    </tr>\n",
       "    <tr>\n",
       "      <th>...</th>\n",
       "      <td>...</td>\n",
       "      <td>...</td>\n",
       "      <td>...</td>\n",
       "      <td>...</td>\n",
       "      <td>...</td>\n",
       "      <td>...</td>\n",
       "      <td>...</td>\n",
       "      <td>...</td>\n",
       "      <td>...</td>\n",
       "      <td>...</td>\n",
       "      <td>...</td>\n",
       "      <td>...</td>\n",
       "      <td>...</td>\n",
       "      <td>...</td>\n",
       "      <td>...</td>\n",
       "      <td>...</td>\n",
       "      <td>...</td>\n",
       "      <td>...</td>\n",
       "      <td>...</td>\n",
       "      <td>...</td>\n",
       "      <td>...</td>\n",
       "    </tr>\n",
       "    <tr>\n",
       "      <th>7038</th>\n",
       "      <td>6840-RESVB</td>\n",
       "      <td>Male</td>\n",
       "      <td>0</td>\n",
       "      <td>Yes</td>\n",
       "      <td>Yes</td>\n",
       "      <td>24</td>\n",
       "      <td>Yes</td>\n",
       "      <td>Yes</td>\n",
       "      <td>DSL</td>\n",
       "      <td>Yes</td>\n",
       "      <td>...</td>\n",
       "      <td>Yes</td>\n",
       "      <td>Yes</td>\n",
       "      <td>Yes</td>\n",
       "      <td>Yes</td>\n",
       "      <td>One year</td>\n",
       "      <td>Yes</td>\n",
       "      <td>Mailed check</td>\n",
       "      <td>84.80</td>\n",
       "      <td>1990.5</td>\n",
       "      <td>No</td>\n",
       "    </tr>\n",
       "    <tr>\n",
       "      <th>7039</th>\n",
       "      <td>2234-XADUH</td>\n",
       "      <td>Female</td>\n",
       "      <td>0</td>\n",
       "      <td>Yes</td>\n",
       "      <td>Yes</td>\n",
       "      <td>72</td>\n",
       "      <td>Yes</td>\n",
       "      <td>Yes</td>\n",
       "      <td>Fiber optic</td>\n",
       "      <td>No</td>\n",
       "      <td>...</td>\n",
       "      <td>Yes</td>\n",
       "      <td>No</td>\n",
       "      <td>Yes</td>\n",
       "      <td>Yes</td>\n",
       "      <td>One year</td>\n",
       "      <td>Yes</td>\n",
       "      <td>Credit card (automatic)</td>\n",
       "      <td>103.20</td>\n",
       "      <td>7362.9</td>\n",
       "      <td>No</td>\n",
       "    </tr>\n",
       "    <tr>\n",
       "      <th>7040</th>\n",
       "      <td>4801-JZAZL</td>\n",
       "      <td>Female</td>\n",
       "      <td>0</td>\n",
       "      <td>Yes</td>\n",
       "      <td>Yes</td>\n",
       "      <td>11</td>\n",
       "      <td>No</td>\n",
       "      <td>No phone service</td>\n",
       "      <td>DSL</td>\n",
       "      <td>Yes</td>\n",
       "      <td>...</td>\n",
       "      <td>No</td>\n",
       "      <td>No</td>\n",
       "      <td>No</td>\n",
       "      <td>No</td>\n",
       "      <td>Month-to-month</td>\n",
       "      <td>Yes</td>\n",
       "      <td>Electronic check</td>\n",
       "      <td>29.60</td>\n",
       "      <td>346.45</td>\n",
       "      <td>No</td>\n",
       "    </tr>\n",
       "    <tr>\n",
       "      <th>7041</th>\n",
       "      <td>8361-LTMKD</td>\n",
       "      <td>Male</td>\n",
       "      <td>1</td>\n",
       "      <td>Yes</td>\n",
       "      <td>No</td>\n",
       "      <td>4</td>\n",
       "      <td>Yes</td>\n",
       "      <td>Yes</td>\n",
       "      <td>Fiber optic</td>\n",
       "      <td>No</td>\n",
       "      <td>...</td>\n",
       "      <td>No</td>\n",
       "      <td>No</td>\n",
       "      <td>No</td>\n",
       "      <td>No</td>\n",
       "      <td>Month-to-month</td>\n",
       "      <td>Yes</td>\n",
       "      <td>Mailed check</td>\n",
       "      <td>74.40</td>\n",
       "      <td>306.6</td>\n",
       "      <td>Yes</td>\n",
       "    </tr>\n",
       "    <tr>\n",
       "      <th>7042</th>\n",
       "      <td>3186-AJIEK</td>\n",
       "      <td>Male</td>\n",
       "      <td>0</td>\n",
       "      <td>No</td>\n",
       "      <td>No</td>\n",
       "      <td>66</td>\n",
       "      <td>Yes</td>\n",
       "      <td>No</td>\n",
       "      <td>Fiber optic</td>\n",
       "      <td>Yes</td>\n",
       "      <td>...</td>\n",
       "      <td>Yes</td>\n",
       "      <td>Yes</td>\n",
       "      <td>Yes</td>\n",
       "      <td>Yes</td>\n",
       "      <td>Two year</td>\n",
       "      <td>Yes</td>\n",
       "      <td>Bank transfer (automatic)</td>\n",
       "      <td>105.65</td>\n",
       "      <td>6844.5</td>\n",
       "      <td>No</td>\n",
       "    </tr>\n",
       "  </tbody>\n",
       "</table>\n",
       "<p>7043 rows × 21 columns</p>\n",
       "</div>"
      ],
      "text/plain": [
       "      customerID  gender  SeniorCitizen Partner Dependents  tenure  \\\n",
       "0     7590-VHVEG  Female              0     Yes         No       1   \n",
       "1     5575-GNVDE    Male              0      No         No      34   \n",
       "2     3668-QPYBK    Male              0      No         No       2   \n",
       "3     7795-CFOCW    Male              0      No         No      45   \n",
       "4     9237-HQITU  Female              0      No         No       2   \n",
       "...          ...     ...            ...     ...        ...     ...   \n",
       "7038  6840-RESVB    Male              0     Yes        Yes      24   \n",
       "7039  2234-XADUH  Female              0     Yes        Yes      72   \n",
       "7040  4801-JZAZL  Female              0     Yes        Yes      11   \n",
       "7041  8361-LTMKD    Male              1     Yes         No       4   \n",
       "7042  3186-AJIEK    Male              0      No         No      66   \n",
       "\n",
       "     PhoneService     MultipleLines InternetService OnlineSecurity  ...  \\\n",
       "0              No  No phone service             DSL             No  ...   \n",
       "1             Yes                No             DSL            Yes  ...   \n",
       "2             Yes                No             DSL            Yes  ...   \n",
       "3              No  No phone service             DSL            Yes  ...   \n",
       "4             Yes                No     Fiber optic             No  ...   \n",
       "...           ...               ...             ...            ...  ...   \n",
       "7038          Yes               Yes             DSL            Yes  ...   \n",
       "7039          Yes               Yes     Fiber optic             No  ...   \n",
       "7040           No  No phone service             DSL            Yes  ...   \n",
       "7041          Yes               Yes     Fiber optic             No  ...   \n",
       "7042          Yes                No     Fiber optic            Yes  ...   \n",
       "\n",
       "     DeviceProtection TechSupport StreamingTV StreamingMovies        Contract  \\\n",
       "0                  No          No          No              No  Month-to-month   \n",
       "1                 Yes          No          No              No        One year   \n",
       "2                  No          No          No              No  Month-to-month   \n",
       "3                 Yes         Yes          No              No        One year   \n",
       "4                  No          No          No              No  Month-to-month   \n",
       "...               ...         ...         ...             ...             ...   \n",
       "7038              Yes         Yes         Yes             Yes        One year   \n",
       "7039              Yes          No         Yes             Yes        One year   \n",
       "7040               No          No          No              No  Month-to-month   \n",
       "7041               No          No          No              No  Month-to-month   \n",
       "7042              Yes         Yes         Yes             Yes        Two year   \n",
       "\n",
       "     PaperlessBilling              PaymentMethod MonthlyCharges  TotalCharges  \\\n",
       "0                 Yes           Electronic check          29.85         29.85   \n",
       "1                  No               Mailed check          56.95        1889.5   \n",
       "2                 Yes               Mailed check          53.85        108.15   \n",
       "3                  No  Bank transfer (automatic)          42.30       1840.75   \n",
       "4                 Yes           Electronic check          70.70        151.65   \n",
       "...               ...                        ...            ...           ...   \n",
       "7038              Yes               Mailed check          84.80        1990.5   \n",
       "7039              Yes    Credit card (automatic)         103.20        7362.9   \n",
       "7040              Yes           Electronic check          29.60        346.45   \n",
       "7041              Yes               Mailed check          74.40         306.6   \n",
       "7042              Yes  Bank transfer (automatic)         105.65        6844.5   \n",
       "\n",
       "     Churn  \n",
       "0       No  \n",
       "1       No  \n",
       "2      Yes  \n",
       "3       No  \n",
       "4      Yes  \n",
       "...    ...  \n",
       "7038    No  \n",
       "7039    No  \n",
       "7040    No  \n",
       "7041   Yes  \n",
       "7042    No  \n",
       "\n",
       "[7043 rows x 21 columns]"
      ]
     },
     "execution_count": 2,
     "metadata": {},
     "output_type": "execute_result"
    }
   ],
   "source": [
    "df_original = pd.read_csv(\"Telco_churn.csv\")\n",
    "df = df_original.copy()\n",
    "df"
   ]
  },
  {
   "cell_type": "code",
   "execution_count": 3,
   "id": "c25fc1fa",
   "metadata": {},
   "outputs": [],
   "source": [
    "df = df.drop([\"customerID\"], axis =1)"
   ]
  },
  {
   "cell_type": "code",
   "execution_count": 4,
   "id": "c02ca7fd",
   "metadata": {},
   "outputs": [
    {
     "name": "stdout",
     "output_type": "stream",
     "text": [
      "<class 'pandas.core.frame.DataFrame'>\n",
      "RangeIndex: 7043 entries, 0 to 7042\n",
      "Data columns (total 20 columns):\n",
      " #   Column            Non-Null Count  Dtype  \n",
      "---  ------            --------------  -----  \n",
      " 0   gender            7043 non-null   object \n",
      " 1   SeniorCitizen     7043 non-null   int64  \n",
      " 2   Partner           7043 non-null   object \n",
      " 3   Dependents        7043 non-null   object \n",
      " 4   tenure            7043 non-null   int64  \n",
      " 5   PhoneService      7043 non-null   object \n",
      " 6   MultipleLines     7043 non-null   object \n",
      " 7   InternetService   7043 non-null   object \n",
      " 8   OnlineSecurity    7043 non-null   object \n",
      " 9   OnlineBackup      7043 non-null   object \n",
      " 10  DeviceProtection  7043 non-null   object \n",
      " 11  TechSupport       7043 non-null   object \n",
      " 12  StreamingTV       7043 non-null   object \n",
      " 13  StreamingMovies   7043 non-null   object \n",
      " 14  Contract          7043 non-null   object \n",
      " 15  PaperlessBilling  7043 non-null   object \n",
      " 16  PaymentMethod     7043 non-null   object \n",
      " 17  MonthlyCharges    7043 non-null   float64\n",
      " 18  TotalCharges      7043 non-null   object \n",
      " 19  Churn             7043 non-null   object \n",
      "dtypes: float64(1), int64(2), object(17)\n",
      "memory usage: 1.1+ MB\n"
     ]
    }
   ],
   "source": [
    "df.info()"
   ]
  },
  {
   "cell_type": "code",
   "execution_count": 5,
   "id": "815387c5",
   "metadata": {},
   "outputs": [],
   "source": [
    "def str_float(string):\n",
    "    try:\n",
    "        return float(string)\n",
    "    except:\n",
    "        return np.nan   "
   ]
  },
  {
   "cell_type": "code",
   "execution_count": 6,
   "id": "e77122a1",
   "metadata": {},
   "outputs": [],
   "source": [
    "df.TotalCharges = df.TotalCharges.apply(str_float)"
   ]
  },
  {
   "cell_type": "code",
   "execution_count": 7,
   "id": "6c87cae4",
   "metadata": {},
   "outputs": [],
   "source": [
    "df.dropna(axis=0, inplace=True)"
   ]
  },
  {
   "cell_type": "code",
   "execution_count": 8,
   "id": "d019e230",
   "metadata": {},
   "outputs": [
    {
     "data": {
      "text/plain": [
       "0         29.85\n",
       "1       1889.50\n",
       "2        108.15\n",
       "3       1840.75\n",
       "4        151.65\n",
       "         ...   \n",
       "7038    1990.50\n",
       "7039    7362.90\n",
       "7040     346.45\n",
       "7041     306.60\n",
       "7042    6844.50\n",
       "Name: TotalCharges, Length: 7032, dtype: float64"
      ]
     },
     "execution_count": 8,
     "metadata": {},
     "output_type": "execute_result"
    }
   ],
   "source": [
    "df.TotalCharges.astype(float)"
   ]
  },
  {
   "cell_type": "code",
   "execution_count": 9,
   "id": "954767c1",
   "metadata": {},
   "outputs": [
    {
     "data": {
      "text/plain": [
       "No     3639\n",
       "Yes    3393\n",
       "Name: Partner, dtype: int64"
      ]
     },
     "execution_count": 9,
     "metadata": {},
     "output_type": "execute_result"
    }
   ],
   "source": [
    "df.Partner.value_counts()       "
   ]
  },
  {
   "cell_type": "code",
   "execution_count": 10,
   "id": "c7cd161c",
   "metadata": {},
   "outputs": [
    {
     "data": {
      "text/plain": [
       "No     4933\n",
       "Yes    2099\n",
       "Name: Dependents, dtype: int64"
      ]
     },
     "execution_count": 10,
     "metadata": {},
     "output_type": "execute_result"
    }
   ],
   "source": [
    "df.Dependents.value_counts()"
   ]
  },
  {
   "cell_type": "code",
   "execution_count": 11,
   "id": "594b3ecb",
   "metadata": {},
   "outputs": [
    {
     "data": {
      "text/plain": [
       "0       No phone service\n",
       "1                     No\n",
       "2                     No\n",
       "3       No phone service\n",
       "4                     No\n",
       "              ...       \n",
       "7038                 Yes\n",
       "7039                 Yes\n",
       "7040    No phone service\n",
       "7041                 Yes\n",
       "7042                  No\n",
       "Name: MultipleLines, Length: 7032, dtype: object"
      ]
     },
     "execution_count": 11,
     "metadata": {},
     "output_type": "execute_result"
    }
   ],
   "source": [
    "df.MultipleLines"
   ]
  },
  {
   "cell_type": "code",
   "execution_count": null,
   "id": "f628e594",
   "metadata": {},
   "outputs": [],
   "source": []
  },
  {
   "cell_type": "code",
   "execution_count": 12,
   "id": "87b6a8b1",
   "metadata": {},
   "outputs": [
    {
     "data": {
      "text/plain": [
       "Fiber optic    3096\n",
       "DSL            2416\n",
       "No             1520\n",
       "Name: InternetService, dtype: int64"
      ]
     },
     "execution_count": 12,
     "metadata": {},
     "output_type": "execute_result"
    }
   ],
   "source": [
    "df.InternetService.value_counts()"
   ]
  },
  {
   "cell_type": "code",
   "execution_count": 13,
   "id": "84fb8544",
   "metadata": {},
   "outputs": [
    {
     "data": {
      "text/plain": [
       "0        No\n",
       "1       Yes\n",
       "2       Yes\n",
       "3       Yes\n",
       "4        No\n",
       "       ... \n",
       "7038    Yes\n",
       "7039     No\n",
       "7040    Yes\n",
       "7041     No\n",
       "7042    Yes\n",
       "Name: OnlineSecurity, Length: 7032, dtype: object"
      ]
     },
     "execution_count": 13,
     "metadata": {},
     "output_type": "execute_result"
    }
   ],
   "source": [
    "df.OnlineSecurity"
   ]
  },
  {
   "cell_type": "code",
   "execution_count": 14,
   "id": "4411c585",
   "metadata": {},
   "outputs": [
    {
     "data": {
      "text/plain": [
       "0       Yes\n",
       "1        No\n",
       "2       Yes\n",
       "3        No\n",
       "4        No\n",
       "       ... \n",
       "7038     No\n",
       "7039    Yes\n",
       "7040     No\n",
       "7041     No\n",
       "7042     No\n",
       "Name: OnlineBackup, Length: 7032, dtype: object"
      ]
     },
     "execution_count": 14,
     "metadata": {},
     "output_type": "execute_result"
    }
   ],
   "source": [
    "df.OnlineBackup"
   ]
  },
  {
   "cell_type": "code",
   "execution_count": 15,
   "id": "7b77720e",
   "metadata": {},
   "outputs": [
    {
     "data": {
      "text/plain": [
       "0        No\n",
       "1       Yes\n",
       "2        No\n",
       "3       Yes\n",
       "4        No\n",
       "       ... \n",
       "7038    Yes\n",
       "7039    Yes\n",
       "7040     No\n",
       "7041     No\n",
       "7042    Yes\n",
       "Name: DeviceProtection, Length: 7032, dtype: object"
      ]
     },
     "execution_count": 15,
     "metadata": {},
     "output_type": "execute_result"
    }
   ],
   "source": [
    "df.DeviceProtection"
   ]
  },
  {
   "cell_type": "code",
   "execution_count": 16,
   "id": "ab108352",
   "metadata": {},
   "outputs": [],
   "source": [
    "x_original = df.drop([\"Churn\",\"MonthlyCharges\",\"TotalCharges\"],axis = 1)\n",
    "x=x_original.copy()"
   ]
  },
  {
   "cell_type": "code",
   "execution_count": 17,
   "id": "16d0e6b4",
   "metadata": {},
   "outputs": [],
   "source": [
    "y = df.Churn"
   ]
  },
  {
   "cell_type": "code",
   "execution_count": 18,
   "id": "503bc776",
   "metadata": {},
   "outputs": [],
   "source": [
    "y = y.replace({\"No\":0,\"Yes\":1})"
   ]
  },
  {
   "cell_type": "code",
   "execution_count": 19,
   "id": "c77c4dc8",
   "metadata": {},
   "outputs": [
    {
     "data": {
      "text/plain": [
       "(7032, 43)"
      ]
     },
     "execution_count": 19,
     "metadata": {},
     "output_type": "execute_result"
    }
   ],
   "source": [
    "x = pd.get_dummies(x)\n",
    "x.shape"
   ]
  },
  {
   "cell_type": "code",
   "execution_count": 20,
   "id": "d0565d85",
   "metadata": {},
   "outputs": [],
   "source": [
    "x_train,x_test,y_train,y_test = train_test_split(x,y,test_size=0.30,random_state=30,stratify=y)"
   ]
  },
  {
   "cell_type": "markdown",
   "id": "7484eb32",
   "metadata": {},
   "source": [
    "# Model Building"
   ]
  },
  {
   "cell_type": "markdown",
   "id": "06817da9",
   "metadata": {},
   "source": [
    "## Model: Logistic Regression"
   ]
  },
  {
   "cell_type": "code",
   "execution_count": 21,
   "id": "2409a617",
   "metadata": {},
   "outputs": [],
   "source": [
    "LogReg_model = LogisticRegression()\n",
    "LogReg_model.fit(x_train,y_train)\n",
    "y_pred_train = LogReg_model.predict(x_train)\n",
    "y_pred_test = LogReg_model.predict(x_test)"
   ]
  },
  {
   "cell_type": "code",
   "execution_count": 22,
   "id": "7d299550",
   "metadata": {},
   "outputs": [],
   "source": [
    "accuracy_train = accuracy_score(y_train,y_pred_train)\n",
    "accuracy_test = accuracy_score(y_test,y_pred_test)"
   ]
  },
  {
   "cell_type": "code",
   "execution_count": 23,
   "id": "ebc0bf60",
   "metadata": {},
   "outputs": [
    {
     "data": {
      "text/plain": [
       "(0.8031288094270622, 0.8056872037914692)"
      ]
     },
     "execution_count": 23,
     "metadata": {},
     "output_type": "execute_result"
    }
   ],
   "source": [
    "accuracy_train,accuracy_test"
   ]
  },
  {
   "cell_type": "code",
   "execution_count": 24,
   "id": "357d981c",
   "metadata": {},
   "outputs": [
    {
     "data": {
      "text/plain": [
       "(0.8043478260869565, 0.8037914691943128)"
      ]
     },
     "execution_count": 24,
     "metadata": {},
     "output_type": "execute_result"
    }
   ],
   "source": [
    "Ridge_model = RidgeClassifier()\n",
    "\n",
    "params_grid = {\n",
    "    \"alpha\" : np.arange(0.01,10,0.01)\n",
    "    }\n",
    "\n",
    "gscv = RandomizedSearchCV(Ridge_model,params_grid)\n",
    "gscv.fit(x_train,y_train)\n",
    "gscv.best_estimator_\n",
    "\n",
    "Ridge_model = gscv.best_estimator_\n",
    "Ridge_model.fit(x_train,y_train)\n",
    "\n",
    "y_pred_train = Ridge_model.predict(x_train)\n",
    "y_pred_test = Ridge_model.predict(x_test)\n",
    "accuracy_train = accuracy_score(y_train,y_pred_train)\n",
    "accuracy_test = accuracy_score(y_test,y_pred_test)\n",
    "\n",
    "accuracy_train,accuracy_test"
   ]
  },
  {
   "cell_type": "code",
   "execution_count": null,
   "id": "86f33eb0",
   "metadata": {},
   "outputs": [],
   "source": []
  },
  {
   "cell_type": "code",
   "execution_count": null,
   "id": "a5e33a22",
   "metadata": {},
   "outputs": [],
   "source": []
  },
  {
   "cell_type": "markdown",
   "id": "d3d7eadd",
   "metadata": {},
   "source": [
    "# Oversampling : random_oversampler"
   ]
  },
  {
   "cell_type": "code",
   "execution_count": 25,
   "id": "80e4e774",
   "metadata": {},
   "outputs": [],
   "source": [
    "# from imblearn.over_sampling import SMOTE"
   ]
  },
  {
   "cell_type": "code",
   "execution_count": 26,
   "id": "0765247c",
   "metadata": {},
   "outputs": [],
   "source": [
    "from imblearn.over_sampling import RandomOverSampler\n",
    "random_oversampler = RandomOverSampler()"
   ]
  },
  {
   "cell_type": "code",
   "execution_count": 27,
   "id": "2a0faf23",
   "metadata": {},
   "outputs": [
    {
     "data": {
      "text/plain": [
       "0    5163\n",
       "1    5163\n",
       "Name: Churn, dtype: int64"
      ]
     },
     "execution_count": 27,
     "metadata": {},
     "output_type": "execute_result"
    }
   ],
   "source": [
    "x,y = random_oversampler.fit_resample(x,y)\n",
    "y.value_counts()"
   ]
  },
  {
   "cell_type": "code",
   "execution_count": 28,
   "id": "bd3c4830",
   "metadata": {},
   "outputs": [],
   "source": [
    "x_train,x_test,y_train,y_test = train_test_split(x,y,test_size=0.30,random_state=30,stratify=y)"
   ]
  },
  {
   "cell_type": "markdown",
   "id": "f0dd7c92",
   "metadata": {},
   "source": [
    "## Model: Logistic Regression"
   ]
  },
  {
   "cell_type": "code",
   "execution_count": 29,
   "id": "f670dbf9",
   "metadata": {},
   "outputs": [
    {
     "data": {
      "text/plain": [
       "(0.7659103486441616, 0.7666236281471918)"
      ]
     },
     "execution_count": 29,
     "metadata": {},
     "output_type": "execute_result"
    }
   ],
   "source": [
    "LogReg_model = LogisticRegression()\n",
    "LogReg_model.fit(x_train,y_train)\n",
    "y_pred_train = LogReg_model.predict(x_train)\n",
    "y_pred_test = LogReg_model.predict(x_test)\n",
    "accuracy_train = accuracy_score(y_train,y_pred_train)\n",
    "accuracy_test = accuracy_score(y_test,y_pred_test)\n",
    "\n",
    "accuracy_train,accuracy_test"
   ]
  },
  {
   "cell_type": "markdown",
   "id": "de59938f",
   "metadata": {},
   "source": [
    "## Model: Ridge Classifier"
   ]
  },
  {
   "cell_type": "code",
   "execution_count": 30,
   "id": "0042a220",
   "metadata": {},
   "outputs": [
    {
     "data": {
      "text/plain": [
       "(0.7634200332042058, 0.763395739186572)"
      ]
     },
     "execution_count": 30,
     "metadata": {},
     "output_type": "execute_result"
    }
   ],
   "source": [
    "Ridge_model = RidgeClassifier()\n",
    "Ridge_model.fit(x_train,y_train)\n",
    "y_pred_train = Ridge_model.predict(x_train)\n",
    "y_pred_test = Ridge_model.predict(x_test)\n",
    "accuracy_train = accuracy_score(y_train,y_pred_train)\n",
    "accuracy_test = accuracy_score(y_test,y_pred_test)\n",
    "\n",
    "accuracy_train,accuracy_test"
   ]
  },
  {
   "cell_type": "markdown",
   "id": "6e05cad8",
   "metadata": {},
   "source": [
    "## Model: Ridge Classifier with HyperParameter Tuning"
   ]
  },
  {
   "cell_type": "code",
   "execution_count": 31,
   "id": "22a29aae",
   "metadata": {},
   "outputs": [
    {
     "data": {
      "text/plain": [
       "(0.7634200332042058, 0.763395739186572)"
      ]
     },
     "execution_count": 31,
     "metadata": {},
     "output_type": "execute_result"
    }
   ],
   "source": [
    "Ridge_model = RidgeClassifier()\n",
    "\n",
    "params_grid = {\n",
    "    \"alpha\" : np.arange(0.01,10,0.01)\n",
    "    }\n",
    "\n",
    "gscv = RandomizedSearchCV(Ridge_model,params_grid)\n",
    "gscv.fit(x_train,y_train)\n",
    "gscv.best_estimator_\n",
    "\n",
    "Ridge_model = gscv.best_estimator_\n",
    "Ridge_model.fit(x_train,y_train)\n",
    "\n",
    "y_pred_train = Ridge_model.predict(x_train)\n",
    "y_pred_test = Ridge_model.predict(x_test)\n",
    "accuracy_train = accuracy_score(y_train,y_pred_train)\n",
    "accuracy_test = accuracy_score(y_test,y_pred_test)\n",
    "\n",
    "accuracy_train,accuracy_test"
   ]
  },
  {
   "cell_type": "markdown",
   "id": "0e31e5b3",
   "metadata": {},
   "source": [
    "## Model: Decision Tree"
   ]
  },
  {
   "cell_type": "code",
   "execution_count": 32,
   "id": "7106281b",
   "metadata": {},
   "outputs": [
    {
     "data": {
      "text/plain": [
       "(0.981737686773658, 0.8447385409941898)"
      ]
     },
     "execution_count": 32,
     "metadata": {},
     "output_type": "execute_result"
    }
   ],
   "source": [
    "DT = DecisionTreeClassifier()\n",
    "DT.fit(x_train,y_train)\n",
    "y_pred_train = DT.predict(x_train)\n",
    "y_pred_test = DT.predict(x_test)\n",
    "accuracy_train = accuracy_score(y_train,y_pred_train)\n",
    "accuracy_test = accuracy_score(y_test,y_pred_test)\n",
    "\n",
    "accuracy_train,accuracy_test"
   ]
  },
  {
   "cell_type": "markdown",
   "id": "a01c5f76",
   "metadata": {},
   "source": [
    "## Model: Random Forest"
   ]
  },
  {
   "cell_type": "code",
   "execution_count": 33,
   "id": "7da41ed6",
   "metadata": {},
   "outputs": [
    {
     "data": {
      "text/plain": [
       "(0.9815993359158827, 0.8670109748224661)"
      ]
     },
     "execution_count": 33,
     "metadata": {},
     "output_type": "execute_result"
    }
   ],
   "source": [
    "RF = RandomForestClassifier()\n",
    "RF.fit(x_train,y_train)\n",
    "y_pred_train = RF.predict(x_train)\n",
    "y_pred_test = RF.predict(x_test)\n",
    "accuracy_train = accuracy_score(y_train,y_pred_train)\n",
    "accuracy_test = accuracy_score(y_test,y_pred_test)\n",
    "\n",
    "accuracy_train,accuracy_test"
   ]
  },
  {
   "cell_type": "markdown",
   "id": "e919d2cc",
   "metadata": {},
   "source": [
    "## Model: Random Forest with HYP"
   ]
  },
  {
   "cell_type": "code",
   "execution_count": 34,
   "id": "afb7f646",
   "metadata": {},
   "outputs": [
    {
     "data": {
      "text/plain": [
       "(0.7549806308799114, 0.7524209167204648)"
      ]
     },
     "execution_count": 34,
     "metadata": {},
     "output_type": "execute_result"
    }
   ],
   "source": [
    "RF  = RandomForestClassifier()\n",
    "\n",
    "Params_grid = {\n",
    "    \n",
    "    \"n_estimators\" : [50,100,150,200],\n",
    "    \"criterion\":[\"gini\", \"entropy\"],\n",
    "    \"max_depth\":np.arange(3,4,5),\n",
    "    \"min_samples_split\":[1,2,3],\n",
    "    \"min_samples_leaf\":[1,2],\n",
    "    \"max_features\":[\"sqrt\"]    \n",
    "}\n",
    "\n",
    "gscv = RandomizedSearchCV(RF, Params_grid,cv=5)\n",
    "gscv.fit(x_train,y_train)\n",
    "RF = gscv.best_estimator_\n",
    "y_pred_train = RF.predict(x_train)\n",
    "y_pred_test = RF.predict(x_test)\n",
    "accuracy_train = accuracy_score(y_train,y_pred_train)\n",
    "accuracy_test = accuracy_score(y_test,y_pred_test)\n",
    "accuracy_train,accuracy_test"
   ]
  },
  {
   "cell_type": "markdown",
   "id": "744a8d14",
   "metadata": {},
   "source": [
    "## Model: Naive Bayes (GaussianNB)"
   ]
  },
  {
   "cell_type": "code",
   "execution_count": 35,
   "id": "942ecc0f",
   "metadata": {},
   "outputs": [
    {
     "data": {
      "text/plain": [
       "(0.7454344216934145, 0.7414460942543577)"
      ]
     },
     "execution_count": 35,
     "metadata": {},
     "output_type": "execute_result"
    }
   ],
   "source": [
    "from sklearn.naive_bayes import GaussianNB,BernoulliNB \n",
    "classifier = GaussianNB()  \n",
    "classifier.fit(x_train, y_train)  \n",
    "y_pred_train = classifier.predict(x_train)\n",
    "y_pred_test = classifier.predict(x_test)\n",
    "accuracy_train = accuracy_score(y_train,y_pred_train)\n",
    "accuracy_test = accuracy_score(y_test,y_pred_test)\n",
    "\n",
    "accuracy_train,accuracy_test"
   ]
  },
  {
   "cell_type": "markdown",
   "id": "4589a450",
   "metadata": {},
   "source": [
    "## Model: KNN_clf"
   ]
  },
  {
   "cell_type": "code",
   "execution_count": 36,
   "id": "21a21c79",
   "metadata": {},
   "outputs": [
    {
     "data": {
      "text/plain": [
       "(0.8403431101272828, 0.763718528082634)"
      ]
     },
     "execution_count": 36,
     "metadata": {},
     "output_type": "execute_result"
    }
   ],
   "source": [
    "knn_clf = KNeighborsClassifier()\n",
    "knn_clf.fit(x_train,y_train)\n",
    "y_pred_train = knn_clf.predict(x_train)\n",
    "y_pred_test = knn_clf.predict(x_test)\n",
    "accuracy_train = accuracy_score(y_train,y_pred_train)\n",
    "accuracy_test = accuracy_score(y_test,y_pred_test)\n",
    "\n",
    "accuracy_train,accuracy_test"
   ]
  },
  {
   "cell_type": "markdown",
   "id": "31a2d333",
   "metadata": {},
   "source": [
    "# variance_inflation_factor"
   ]
  },
  {
   "cell_type": "code",
   "execution_count": 37,
   "id": "35c0884f",
   "metadata": {},
   "outputs": [
    {
     "data": {
      "text/html": [
       "<div>\n",
       "<style scoped>\n",
       "    .dataframe tbody tr th:only-of-type {\n",
       "        vertical-align: middle;\n",
       "    }\n",
       "\n",
       "    .dataframe tbody tr th {\n",
       "        vertical-align: top;\n",
       "    }\n",
       "\n",
       "    .dataframe thead th {\n",
       "        text-align: right;\n",
       "    }\n",
       "</style>\n",
       "<table border=\"1\" class=\"dataframe\">\n",
       "  <thead>\n",
       "    <tr style=\"text-align: right;\">\n",
       "      <th></th>\n",
       "      <th>features</th>\n",
       "      <th>VIF</th>\n",
       "    </tr>\n",
       "  </thead>\n",
       "  <tbody>\n",
       "    <tr>\n",
       "      <th>21</th>\n",
       "      <td>OnlineBackup_Yes</td>\n",
       "      <td>inf</td>\n",
       "    </tr>\n",
       "    <tr>\n",
       "      <th>32</th>\n",
       "      <td>StreamingMovies_No internet service</td>\n",
       "      <td>inf</td>\n",
       "    </tr>\n",
       "    <tr>\n",
       "      <th>24</th>\n",
       "      <td>DeviceProtection_Yes</td>\n",
       "      <td>inf</td>\n",
       "    </tr>\n",
       "    <tr>\n",
       "      <th>25</th>\n",
       "      <td>TechSupport_No</td>\n",
       "      <td>inf</td>\n",
       "    </tr>\n",
       "    <tr>\n",
       "      <th>26</th>\n",
       "      <td>TechSupport_No internet service</td>\n",
       "      <td>inf</td>\n",
       "    </tr>\n",
       "    <tr>\n",
       "      <th>27</th>\n",
       "      <td>TechSupport_Yes</td>\n",
       "      <td>inf</td>\n",
       "    </tr>\n",
       "    <tr>\n",
       "      <th>28</th>\n",
       "      <td>StreamingTV_No</td>\n",
       "      <td>inf</td>\n",
       "    </tr>\n",
       "    <tr>\n",
       "      <th>29</th>\n",
       "      <td>StreamingTV_No internet service</td>\n",
       "      <td>inf</td>\n",
       "    </tr>\n",
       "    <tr>\n",
       "      <th>30</th>\n",
       "      <td>StreamingTV_Yes</td>\n",
       "      <td>inf</td>\n",
       "    </tr>\n",
       "    <tr>\n",
       "      <th>31</th>\n",
       "      <td>StreamingMovies_No</td>\n",
       "      <td>inf</td>\n",
       "    </tr>\n",
       "    <tr>\n",
       "      <th>33</th>\n",
       "      <td>StreamingMovies_Yes</td>\n",
       "      <td>inf</td>\n",
       "    </tr>\n",
       "    <tr>\n",
       "      <th>22</th>\n",
       "      <td>DeviceProtection_No</td>\n",
       "      <td>inf</td>\n",
       "    </tr>\n",
       "    <tr>\n",
       "      <th>34</th>\n",
       "      <td>Contract_Month-to-month</td>\n",
       "      <td>inf</td>\n",
       "    </tr>\n",
       "    <tr>\n",
       "      <th>35</th>\n",
       "      <td>Contract_One year</td>\n",
       "      <td>inf</td>\n",
       "    </tr>\n",
       "    <tr>\n",
       "      <th>36</th>\n",
       "      <td>Contract_Two year</td>\n",
       "      <td>inf</td>\n",
       "    </tr>\n",
       "    <tr>\n",
       "      <th>37</th>\n",
       "      <td>PaperlessBilling_No</td>\n",
       "      <td>inf</td>\n",
       "    </tr>\n",
       "    <tr>\n",
       "      <th>38</th>\n",
       "      <td>PaperlessBilling_Yes</td>\n",
       "      <td>inf</td>\n",
       "    </tr>\n",
       "    <tr>\n",
       "      <th>39</th>\n",
       "      <td>PaymentMethod_Bank transfer (automatic)</td>\n",
       "      <td>inf</td>\n",
       "    </tr>\n",
       "    <tr>\n",
       "      <th>40</th>\n",
       "      <td>PaymentMethod_Credit card (automatic)</td>\n",
       "      <td>inf</td>\n",
       "    </tr>\n",
       "    <tr>\n",
       "      <th>41</th>\n",
       "      <td>PaymentMethod_Electronic check</td>\n",
       "      <td>inf</td>\n",
       "    </tr>\n",
       "    <tr>\n",
       "      <th>23</th>\n",
       "      <td>DeviceProtection_No internet service</td>\n",
       "      <td>inf</td>\n",
       "    </tr>\n",
       "    <tr>\n",
       "      <th>42</th>\n",
       "      <td>PaymentMethod_Mailed check</td>\n",
       "      <td>inf</td>\n",
       "    </tr>\n",
       "    <tr>\n",
       "      <th>11</th>\n",
       "      <td>MultipleLines_No phone service</td>\n",
       "      <td>inf</td>\n",
       "    </tr>\n",
       "    <tr>\n",
       "      <th>20</th>\n",
       "      <td>OnlineBackup_No internet service</td>\n",
       "      <td>inf</td>\n",
       "    </tr>\n",
       "    <tr>\n",
       "      <th>4</th>\n",
       "      <td>Partner_No</td>\n",
       "      <td>inf</td>\n",
       "    </tr>\n",
       "    <tr>\n",
       "      <th>5</th>\n",
       "      <td>Partner_Yes</td>\n",
       "      <td>inf</td>\n",
       "    </tr>\n",
       "    <tr>\n",
       "      <th>6</th>\n",
       "      <td>Dependents_No</td>\n",
       "      <td>inf</td>\n",
       "    </tr>\n",
       "    <tr>\n",
       "      <th>7</th>\n",
       "      <td>Dependents_Yes</td>\n",
       "      <td>inf</td>\n",
       "    </tr>\n",
       "    <tr>\n",
       "      <th>8</th>\n",
       "      <td>PhoneService_No</td>\n",
       "      <td>inf</td>\n",
       "    </tr>\n",
       "    <tr>\n",
       "      <th>9</th>\n",
       "      <td>PhoneService_Yes</td>\n",
       "      <td>inf</td>\n",
       "    </tr>\n",
       "    <tr>\n",
       "      <th>10</th>\n",
       "      <td>MultipleLines_No</td>\n",
       "      <td>inf</td>\n",
       "    </tr>\n",
       "    <tr>\n",
       "      <th>12</th>\n",
       "      <td>MultipleLines_Yes</td>\n",
       "      <td>inf</td>\n",
       "    </tr>\n",
       "    <tr>\n",
       "      <th>2</th>\n",
       "      <td>gender_Female</td>\n",
       "      <td>inf</td>\n",
       "    </tr>\n",
       "    <tr>\n",
       "      <th>13</th>\n",
       "      <td>InternetService_DSL</td>\n",
       "      <td>inf</td>\n",
       "    </tr>\n",
       "    <tr>\n",
       "      <th>14</th>\n",
       "      <td>InternetService_Fiber optic</td>\n",
       "      <td>inf</td>\n",
       "    </tr>\n",
       "    <tr>\n",
       "      <th>15</th>\n",
       "      <td>InternetService_No</td>\n",
       "      <td>inf</td>\n",
       "    </tr>\n",
       "    <tr>\n",
       "      <th>16</th>\n",
       "      <td>OnlineSecurity_No</td>\n",
       "      <td>inf</td>\n",
       "    </tr>\n",
       "    <tr>\n",
       "      <th>17</th>\n",
       "      <td>OnlineSecurity_No internet service</td>\n",
       "      <td>inf</td>\n",
       "    </tr>\n",
       "    <tr>\n",
       "      <th>18</th>\n",
       "      <td>OnlineSecurity_Yes</td>\n",
       "      <td>inf</td>\n",
       "    </tr>\n",
       "    <tr>\n",
       "      <th>19</th>\n",
       "      <td>OnlineBackup_No</td>\n",
       "      <td>inf</td>\n",
       "    </tr>\n",
       "    <tr>\n",
       "      <th>3</th>\n",
       "      <td>gender_Male</td>\n",
       "      <td>inf</td>\n",
       "    </tr>\n",
       "    <tr>\n",
       "      <th>1</th>\n",
       "      <td>tenure</td>\n",
       "      <td>2.873843</td>\n",
       "    </tr>\n",
       "    <tr>\n",
       "      <th>0</th>\n",
       "      <td>SeniorCitizen</td>\n",
       "      <td>1.153379</td>\n",
       "    </tr>\n",
       "  </tbody>\n",
       "</table>\n",
       "</div>"
      ],
      "text/plain": [
       "                                   features       VIF\n",
       "21                         OnlineBackup_Yes       inf\n",
       "32      StreamingMovies_No internet service       inf\n",
       "24                     DeviceProtection_Yes       inf\n",
       "25                           TechSupport_No       inf\n",
       "26          TechSupport_No internet service       inf\n",
       "27                          TechSupport_Yes       inf\n",
       "28                           StreamingTV_No       inf\n",
       "29          StreamingTV_No internet service       inf\n",
       "30                          StreamingTV_Yes       inf\n",
       "31                       StreamingMovies_No       inf\n",
       "33                      StreamingMovies_Yes       inf\n",
       "22                      DeviceProtection_No       inf\n",
       "34                  Contract_Month-to-month       inf\n",
       "35                        Contract_One year       inf\n",
       "36                        Contract_Two year       inf\n",
       "37                      PaperlessBilling_No       inf\n",
       "38                     PaperlessBilling_Yes       inf\n",
       "39  PaymentMethod_Bank transfer (automatic)       inf\n",
       "40    PaymentMethod_Credit card (automatic)       inf\n",
       "41           PaymentMethod_Electronic check       inf\n",
       "23     DeviceProtection_No internet service       inf\n",
       "42               PaymentMethod_Mailed check       inf\n",
       "11           MultipleLines_No phone service       inf\n",
       "20         OnlineBackup_No internet service       inf\n",
       "4                                Partner_No       inf\n",
       "5                               Partner_Yes       inf\n",
       "6                             Dependents_No       inf\n",
       "7                            Dependents_Yes       inf\n",
       "8                           PhoneService_No       inf\n",
       "9                          PhoneService_Yes       inf\n",
       "10                         MultipleLines_No       inf\n",
       "12                        MultipleLines_Yes       inf\n",
       "2                             gender_Female       inf\n",
       "13                      InternetService_DSL       inf\n",
       "14              InternetService_Fiber optic       inf\n",
       "15                       InternetService_No       inf\n",
       "16                        OnlineSecurity_No       inf\n",
       "17       OnlineSecurity_No internet service       inf\n",
       "18                       OnlineSecurity_Yes       inf\n",
       "19                          OnlineBackup_No       inf\n",
       "3                               gender_Male       inf\n",
       "1                                    tenure  2.873843\n",
       "0                             SeniorCitizen  1.153379"
      ]
     },
     "execution_count": 37,
     "metadata": {},
     "output_type": "execute_result"
    }
   ],
   "source": [
    "from statsmodels.stats.outliers_influence import variance_inflation_factor\n",
    "\n",
    "vif_df = pd.DataFrame()\n",
    "vif_df[\"features\"] = x.columns\n",
    "vif_list = [variance_inflation_factor(x,index) for index in range(len(x.columns))]\n",
    "vif_df[\"VIF\"] = vif_list\n",
    "\n",
    "vif_df.sort_values(by=\"VIF\", ascending=False)"
   ]
  },
  {
   "cell_type": "markdown",
   "id": "77e64285",
   "metadata": {},
   "source": [
    "# Dropping \"MonthlyCharges\" and \"TotalCharges\" from dataframe:"
   ]
  },
  {
   "cell_type": "code",
   "execution_count": 38,
   "id": "9014a68e",
   "metadata": {},
   "outputs": [],
   "source": [
    "# x = x.drop([\"MonthlyCharges\",\"TotalCharges\"], axis=1)\n",
    "# x_train,x_test,y_train,y_test = train_test_split(x,y,test_size=0.3,random_state=30,stratify=y)"
   ]
  },
  {
   "cell_type": "markdown",
   "id": "38cf77ba",
   "metadata": {},
   "source": [
    "##  Model: Logistic Regression"
   ]
  },
  {
   "cell_type": "code",
   "execution_count": 39,
   "id": "632fab8a",
   "metadata": {},
   "outputs": [
    {
     "data": {
      "text/plain": [
       "(0.7659103486441616, 0.7666236281471918)"
      ]
     },
     "execution_count": 39,
     "metadata": {},
     "output_type": "execute_result"
    }
   ],
   "source": [
    "LogReg_model = LogisticRegression()\n",
    "LogReg_model.fit(x_train,y_train)\n",
    "y_pred_train = LogReg_model.predict(x_train)\n",
    "y_pred_test = LogReg_model.predict(x_test)\n",
    "accuracy_train = accuracy_score(y_train,y_pred_train)\n",
    "accuracy_test = accuracy_score(y_test,y_pred_test)\n",
    "\n",
    "accuracy_train,accuracy_test"
   ]
  },
  {
   "cell_type": "markdown",
   "id": "a491daba",
   "metadata": {},
   "source": [
    "## Model: Random Forest"
   ]
  },
  {
   "cell_type": "raw",
   "id": "c398a1d3",
   "metadata": {},
   "source": [
    "RF = RandomForestClassifier()\n",
    "RF.fit(x_train,y_train)\n",
    "y_pred_train = RF.predict(x_train)\n",
    "y_pred_test = RF.predict(x_test)\n",
    "accuracy_train = accuracy_score(y_train,y_pred_train)\n",
    "accuracy_test = accuracy_score(y_test,y_pred_test)\n",
    "\n",
    "accuracy_train,accuracy_test"
   ]
  },
  {
   "cell_type": "markdown",
   "id": "5b1d7679",
   "metadata": {},
   "source": [
    "## Model: Random Forest with HYP"
   ]
  },
  {
   "cell_type": "raw",
   "id": "e4141ced",
   "metadata": {},
   "source": [
    "RF  = RandomForestClassifier()\n",
    "\n",
    "Params_grid = {\n",
    "    \n",
    "    \"n_estimators\" : [100,200,300],\n",
    "    \"criterion\":[\"gini\", \"entropy\"],\n",
    "    \"max_depth\":np.arange(4,5),\n",
    "    \"min_samples_split\":[2,3],\n",
    "    \"min_samples_leaf\":[1,2],\n",
    "    \"max_features\":[\"sqrt\", \"log2\"]    \n",
    "}\n",
    "\n",
    "gscv = RandomizedSearchCV(RF, Params_grid,cv=5)\n",
    "gscv.fit(x_train,y_train)\n",
    "RF = gscv.best_estimator_\n",
    "y_pred_train = RF.predict(x_train)\n",
    "y_pred_test = RF.predict(x_test)\n",
    "accuracy_train = accuracy_score(y_train,y_pred_train)\n",
    "accuracy_test = accuracy_score(y_test,y_pred_test)\n",
    "accuracy_train,accuracy_test"
   ]
  },
  {
   "cell_type": "raw",
   "id": "a9cdc798",
   "metadata": {},
   "source": [
    "RF_feature_imp = pd.Series(RF.feature_importances_,x_train.columns).sort_values(ascending=False)\n",
    "plt.figure(figsize=(20,20))\n",
    "RF_feature_imp.plot(kind=\"barh\")"
   ]
  },
  {
   "cell_type": "code",
   "execution_count": null,
   "id": "44f70b29",
   "metadata": {},
   "outputs": [],
   "source": []
  },
  {
   "cell_type": "code",
   "execution_count": null,
   "id": "632b0392",
   "metadata": {},
   "outputs": [],
   "source": []
  },
  {
   "cell_type": "code",
   "execution_count": null,
   "id": "8e155c81",
   "metadata": {},
   "outputs": [],
   "source": []
  },
  {
   "cell_type": "code",
   "execution_count": null,
   "id": "6dafc689",
   "metadata": {},
   "outputs": [],
   "source": []
  },
  {
   "cell_type": "markdown",
   "id": "a0393f08",
   "metadata": {},
   "source": [
    "## Model: Decision Tree"
   ]
  },
  {
   "cell_type": "raw",
   "id": "11c8b974",
   "metadata": {},
   "source": [
    "DT = DecisionTreeClassifier()\n",
    "DT.fit(x_train,y_train)\n",
    "y_pred_train = DT.predict(x_train)\n",
    "y_pred_test = DT.predict(x_test)\n",
    "accuracy_train = accuracy_score(y_train,y_pred_train)\n",
    "accuracy_test = accuracy_score(y_test,y_pred_test)\n",
    "\n",
    "print(accuracy_train,accuracy_test)"
   ]
  },
  {
   "cell_type": "markdown",
   "id": "6c9637e3",
   "metadata": {},
   "source": [
    "## Model: Ridge Classifier"
   ]
  },
  {
   "cell_type": "raw",
   "id": "12b4730b",
   "metadata": {},
   "source": [
    "Ridge_model = RidgeClassifier()\n",
    "Ridge_model.fit(x_train,y_train)\n",
    "y_pred_train = Ridge_model.predict(x_train)\n",
    "y_pred_test = Ridge_model.predict(x_test)\n",
    "accuracy_train = accuracy_score(y_train,y_pred_train)\n",
    "accuracy_test = accuracy_score(y_test,y_pred_test)\n",
    "\n",
    "accuracy_train,accuracy_test"
   ]
  },
  {
   "cell_type": "markdown",
   "id": "8e69c8bf",
   "metadata": {},
   "source": [
    "## Model: Ridge Classifier with HYP"
   ]
  },
  {
   "cell_type": "raw",
   "id": "a5cfb1dd",
   "metadata": {},
   "source": [
    "Ridge_model = RidgeClassifier()\n",
    "\n",
    "params_grid = {\n",
    "    \"alpha\" : np.arange(0.01,10,0.01)\n",
    "    }\n",
    "\n",
    "gscv = RandomizedSearchCV(Ridge_model,params_grid,cv=5)\n",
    "gscv.fit(x_train,y_train)\n",
    "gscv.best_estimator_\n",
    "\n",
    "\n",
    "Ridge_model = gscv.best_estimator_\n",
    "Ridge_model.fit(x_train,y_train)\n",
    "\n",
    "y_pred_train = Ridge_model.predict(x_train)\n",
    "y_pred_test = Ridge_model.predict(x_test)\n",
    "accuracy_train = accuracy_score(y_train,y_pred_train)\n",
    "accuracy_test = accuracy_score(y_test,y_pred_test)\n",
    "\n",
    "clf_report_train = classification_report(y_train,y_pred_train)\n",
    "clf_report_test = classification_report(y_test,y_pred_test)\n",
    "print(clf_report_train)\n",
    "print(\"*\"*100)\n",
    "print(clf_report_test)\n",
    "\n",
    "accuracy_train,accuracy_test\n"
   ]
  },
  {
   "cell_type": "raw",
   "id": "2b566037",
   "metadata": {},
   "source": [
    "feature_imp = pd.Series(Ridge_model.coef_[0],x_train.columns).sort_values(ascending=False)"
   ]
  },
  {
   "cell_type": "raw",
   "id": "e06ae70f",
   "metadata": {},
   "source": [
    "plt.figure(figsize=(20,20))\n",
    "feature_imp.plot(kind=\"barh\")"
   ]
  },
  {
   "cell_type": "raw",
   "id": "15c28d13",
   "metadata": {},
   "source": [
    "feature_imp = feature_imp.sort_values()\n",
    "feature_imp"
   ]
  },
  {
   "cell_type": "raw",
   "id": "00722031",
   "metadata": {},
   "source": [
    "most_imp_features = (feature_imp.head(17).append(feature_imp.tail(1))).index.tolist() # <0.15"
   ]
  },
  {
   "cell_type": "raw",
   "id": "60f99050",
   "metadata": {},
   "source": [
    "x = x[most_imp_features]"
   ]
  },
  {
   "cell_type": "raw",
   "id": "88cb9b54",
   "metadata": {},
   "source": [
    "x_train,x_test,y_train,y_test = train_test_split(x,y,test_size=0.3,random_state=30,stratify=y)"
   ]
  },
  {
   "cell_type": "raw",
   "id": "99ae66c4",
   "metadata": {},
   "source": [
    "# Ridge_model = RidgeClassifier()\n",
    "\n",
    "params_grid = {\n",
    "    \"alpha\" : np.arange(0.01,10,0.01)\n",
    "    }\n",
    "\n",
    "gscv = RandomizedSearchCV(Ridge_model,params_grid,cv=5)\n",
    "gscv.fit(x_train,y_train)\n",
    "gscv.best_estimator_\n",
    "\n",
    "\n",
    "Ridge_model = gscv.best_estimator_\n",
    "Ridge_model.fit(x_train,y_train)\n",
    "\n",
    "y_pred_train = Ridge_model.predict(x_train)\n",
    "y_pred_test = Ridge_model.predict(x_test)\n",
    "accuracy_train = accuracy_score(y_train,y_pred_train)\n",
    "accuracy_test = accuracy_score(y_test,y_pred_test)\n",
    "\n",
    "clf_report_train = classification_report(y_train,y_pred_train)\n",
    "clf_report_test = classification_report(y_test,y_pred_test)\n",
    "print(clf_report_train)\n",
    "print(\"*\"*100)\n",
    "print(clf_report_test)\n",
    "accuracy_train,accuracy_test"
   ]
  },
  {
   "cell_type": "raw",
   "id": "ec45f6e9",
   "metadata": {},
   "source": [
    "feature_imp = pd.Series(Ridge_model.coef_[0],x_train.columns).sort_values(ascending=False)"
   ]
  },
  {
   "cell_type": "raw",
   "id": "64a74bb6",
   "metadata": {},
   "source": [
    "plt.figure(figsize=(20,20))\n",
    "feature_imp.plot(kind=\"barh\")"
   ]
  },
  {
   "cell_type": "code",
   "execution_count": null,
   "id": "90c46b42",
   "metadata": {},
   "outputs": [],
   "source": []
  },
  {
   "cell_type": "markdown",
   "id": "40d9406c",
   "metadata": {},
   "source": [
    "## Model: Naive Bayes (GaussianNB)"
   ]
  },
  {
   "cell_type": "raw",
   "id": "a59c9a86",
   "metadata": {},
   "source": [
    "from sklearn.naive_bayes import GaussianNB,BernoulliNB \n",
    "classifier = GaussianNB()  \n",
    "classifier.fit(x_train, y_train)  \n",
    "y_pred_train = classifier.predict(x_train)\n",
    "y_pred_test = classifier.predict(x_test)\n",
    "accuracy_train = accuracy_score(y_train,y_pred_train)\n",
    "accuracy_test = accuracy_score(y_test,y_pred_test)\n",
    "\n",
    "accuracy_train,accuracy_test"
   ]
  },
  {
   "cell_type": "markdown",
   "id": "7c509c37",
   "metadata": {},
   "source": [
    "## Model: KNN Classifier"
   ]
  },
  {
   "cell_type": "raw",
   "id": "70e7df75",
   "metadata": {},
   "source": [
    "knn_clf = KNeighborsClassifier()\n",
    "knn_clf.fit(x_train,y_train)\n",
    "y_pred_train = knn_clf.predict(x_train)\n",
    "y_pred_test = knn_clf.predict(x_test)\n",
    "accuracy_train = accuracy_score(y_train,y_pred_train)\n",
    "accuracy_test = accuracy_score(y_test,y_pred_test)\n",
    "\n",
    "accuracy_train,accuracy_test"
   ]
  },
  {
   "cell_type": "code",
   "execution_count": null,
   "id": "b76bca52",
   "metadata": {},
   "outputs": [],
   "source": []
  },
  {
   "cell_type": "code",
   "execution_count": null,
   "id": "c6c51b54",
   "metadata": {},
   "outputs": [],
   "source": []
  },
  {
   "cell_type": "markdown",
   "id": "8a73f55c",
   "metadata": {},
   "source": [
    "# Best Model : LogReg_model"
   ]
  },
  {
   "cell_type": "code",
   "execution_count": 40,
   "id": "a460e7ee",
   "metadata": {},
   "outputs": [],
   "source": [
    "import json, pickle"
   ]
  },
  {
   "cell_type": "code",
   "execution_count": 41,
   "id": "f7ff6393",
   "metadata": {},
   "outputs": [
    {
     "data": {
      "text/plain": [
       "(0.7659103486441616, 0.7666236281471918)"
      ]
     },
     "execution_count": 41,
     "metadata": {},
     "output_type": "execute_result"
    }
   ],
   "source": [
    "accuracy_train,accuracy_test"
   ]
  },
  {
   "cell_type": "code",
   "execution_count": 42,
   "id": "62387c1b",
   "metadata": {},
   "outputs": [
    {
     "name": "stdout",
     "output_type": "stream",
     "text": [
      "              precision    recall  f1-score   support\n",
      "\n",
      "           0       0.73      0.79      0.76      3322\n",
      "           1       0.81      0.75      0.78      3906\n",
      "\n",
      "    accuracy                           0.77      7228\n",
      "   macro avg       0.77      0.77      0.77      7228\n",
      "weighted avg       0.77      0.77      0.77      7228\n",
      "\n"
     ]
    }
   ],
   "source": [
    "clf_report_train = classification_report(y_pred_train,y_train)\n",
    "clf_report_test = classification_report(y_pred_test,y_test)\n",
    "print(clf_report_train)"
   ]
  },
  {
   "cell_type": "code",
   "execution_count": 43,
   "id": "6fd8307d",
   "metadata": {},
   "outputs": [
    {
     "name": "stdout",
     "output_type": "stream",
     "text": [
      "              precision    recall  f1-score   support\n",
      "\n",
      "           0       0.75      0.77      0.76      1510\n",
      "           1       0.78      0.76      0.77      1588\n",
      "\n",
      "    accuracy                           0.77      3098\n",
      "   macro avg       0.77      0.77      0.77      3098\n",
      "weighted avg       0.77      0.77      0.77      3098\n",
      "\n"
     ]
    }
   ],
   "source": [
    "print(clf_report_test)"
   ]
  },
  {
   "cell_type": "code",
   "execution_count": 44,
   "id": "4a87f931",
   "metadata": {},
   "outputs": [
    {
     "data": {
      "text/plain": [
       "array([[2622,  700],\n",
       "       [ 992, 2914]], dtype=int64)"
      ]
     },
     "execution_count": 44,
     "metadata": {},
     "output_type": "execute_result"
    }
   ],
   "source": [
    "cnf_matrix_train = confusion_matrix(y_pred_train,y_train)\n",
    "cnf_matrix_train\n",
    "\n",
    "cnf_matrix_test = confusion_matrix(y_pred_test,y_test)\n",
    "cnf_matrix_test\n",
    "\n",
    "cnf_matrix_train"
   ]
  },
  {
   "cell_type": "code",
   "execution_count": 45,
   "id": "61ca2f93",
   "metadata": {},
   "outputs": [
    {
     "data": {
      "text/plain": [
       "array([[1168,  342],\n",
       "       [ 381, 1207]], dtype=int64)"
      ]
     },
     "execution_count": 45,
     "metadata": {},
     "output_type": "execute_result"
    }
   ],
   "source": [
    "cnf_matrix_test"
   ]
  },
  {
   "cell_type": "code",
   "execution_count": null,
   "id": "d46aa4b3",
   "metadata": {},
   "outputs": [],
   "source": []
  },
  {
   "cell_type": "code",
   "execution_count": 46,
   "id": "635193ae",
   "metadata": {},
   "outputs": [
    {
     "data": {
      "text/plain": [
       "array([0.73240013, 0.59418472, 0.20804779, ..., 0.05037869, 0.03036738,\n",
       "       0.01485122])"
      ]
     },
     "execution_count": 46,
     "metadata": {},
     "output_type": "execute_result"
    }
   ],
   "source": [
    "y_pred_prob = LogReg_model.predict_proba(x_train)\n",
    "y_pred_prob[:,1]"
   ]
  },
  {
   "cell_type": "code",
   "execution_count": 47,
   "id": "8e8da116",
   "metadata": {},
   "outputs": [],
   "source": [
    "fpr,tpr,thresh = roc_curve(y_train,y_pred_prob[:,1])\n",
    "thresh[0] = 1"
   ]
  },
  {
   "cell_type": "code",
   "execution_count": 48,
   "id": "852cb5c0",
   "metadata": {
    "scrolled": false
   },
   "outputs": [
    {
     "data": {
      "text/plain": [
       "Text(0.5, 1.0, 'Receiver Operating Characteristics Curve\\n')"
      ]
     },
     "execution_count": 48,
     "metadata": {},
     "output_type": "execute_result"
    },
    {
     "data": {
      "image/png": "[encoded data removed]",
      "text/plain": [
       "<Figure size 576x576 with 1 Axes>"
      ]
     },
     "metadata": {
      "needs_background": "light"
     },
     "output_type": "display_data"
    }
   ],
   "source": [
    "plt.figure(figsize=(8,8))\n",
    "plt.plot(fpr,tpr)\n",
    "plt.xlabel(\"False positive Rate(FPR)\",fontdict={\"fontsize\":20})\n",
    "plt.ylabel(\"True Positive rate(TPR)\",fontdict={\"fontsize\":20})\n",
    "plt.title(\"Receiver Operating Characteristics Curve\\n\",fontdict={\"fontsize\":30})"
   ]
  },
  {
   "cell_type": "code",
   "execution_count": 49,
   "id": "8ca0a4a6",
   "metadata": {},
   "outputs": [],
   "source": [
    "roc_df = pd.DataFrame({\n",
    "    \"tpr\":tpr,\n",
    "    \"fpr\":fpr,\n",
    "    \"thre\":thresh\n",
    "})"
   ]
  },
  {
   "cell_type": "code",
   "execution_count": 50,
   "id": "ca896a7b",
   "metadata": {},
   "outputs": [
    {
     "data": {
      "text/html": [
       "<div>\n",
       "<style scoped>\n",
       "    .dataframe tbody tr th:only-of-type {\n",
       "        vertical-align: middle;\n",
       "    }\n",
       "\n",
       "    .dataframe tbody tr th {\n",
       "        vertical-align: top;\n",
       "    }\n",
       "\n",
       "    .dataframe thead th {\n",
       "        text-align: right;\n",
       "    }\n",
       "</style>\n",
       "<table border=\"1\" class=\"dataframe\">\n",
       "  <thead>\n",
       "    <tr style=\"text-align: right;\">\n",
       "      <th></th>\n",
       "      <th>tpr</th>\n",
       "      <th>fpr</th>\n",
       "      <th>thre</th>\n",
       "    </tr>\n",
       "  </thead>\n",
       "  <tbody>\n",
       "    <tr>\n",
       "      <th>0</th>\n",
       "      <td>0.000000</td>\n",
       "      <td>0.000000</td>\n",
       "      <td>1.000000</td>\n",
       "    </tr>\n",
       "    <tr>\n",
       "      <th>1</th>\n",
       "      <td>0.001384</td>\n",
       "      <td>0.000000</td>\n",
       "      <td>0.936900</td>\n",
       "    </tr>\n",
       "    <tr>\n",
       "      <th>2</th>\n",
       "      <td>0.002214</td>\n",
       "      <td>0.000000</td>\n",
       "      <td>0.936630</td>\n",
       "    </tr>\n",
       "    <tr>\n",
       "      <th>3</th>\n",
       "      <td>0.003320</td>\n",
       "      <td>0.000000</td>\n",
       "      <td>0.935026</td>\n",
       "    </tr>\n",
       "    <tr>\n",
       "      <th>4</th>\n",
       "      <td>0.003874</td>\n",
       "      <td>0.000000</td>\n",
       "      <td>0.934992</td>\n",
       "    </tr>\n",
       "    <tr>\n",
       "      <th>...</th>\n",
       "      <td>...</td>\n",
       "      <td>...</td>\n",
       "      <td>...</td>\n",
       "    </tr>\n",
       "    <tr>\n",
       "      <th>2236</th>\n",
       "      <td>1.000000</td>\n",
       "      <td>0.996956</td>\n",
       "      <td>0.010030</td>\n",
       "    </tr>\n",
       "    <tr>\n",
       "      <th>2237</th>\n",
       "      <td>1.000000</td>\n",
       "      <td>0.998340</td>\n",
       "      <td>0.009631</td>\n",
       "    </tr>\n",
       "    <tr>\n",
       "      <th>2238</th>\n",
       "      <td>1.000000</td>\n",
       "      <td>0.998893</td>\n",
       "      <td>0.009451</td>\n",
       "    </tr>\n",
       "    <tr>\n",
       "      <th>2239</th>\n",
       "      <td>1.000000</td>\n",
       "      <td>0.999723</td>\n",
       "      <td>0.009427</td>\n",
       "    </tr>\n",
       "    <tr>\n",
       "      <th>2240</th>\n",
       "      <td>1.000000</td>\n",
       "      <td>1.000000</td>\n",
       "      <td>0.009140</td>\n",
       "    </tr>\n",
       "  </tbody>\n",
       "</table>\n",
       "<p>2241 rows × 3 columns</p>\n",
       "</div>"
      ],
      "text/plain": [
       "           tpr       fpr      thre\n",
       "0     0.000000  0.000000  1.000000\n",
       "1     0.001384  0.000000  0.936900\n",
       "2     0.002214  0.000000  0.936630\n",
       "3     0.003320  0.000000  0.935026\n",
       "4     0.003874  0.000000  0.934992\n",
       "...        ...       ...       ...\n",
       "2236  1.000000  0.996956  0.010030\n",
       "2237  1.000000  0.998340  0.009631\n",
       "2238  1.000000  0.998893  0.009451\n",
       "2239  1.000000  0.999723  0.009427\n",
       "2240  1.000000  1.000000  0.009140\n",
       "\n",
       "[2241 rows x 3 columns]"
      ]
     },
     "execution_count": 50,
     "metadata": {},
     "output_type": "execute_result"
    }
   ],
   "source": [
    "roc_df"
   ]
  },
  {
   "cell_type": "code",
   "execution_count": 51,
   "id": "a25156c0",
   "metadata": {},
   "outputs": [],
   "source": [
    "roc_df[\"tpr-fpr\"] = roc_df[\"tpr\"] - roc_df[\"fpr\"]"
   ]
  },
  {
   "cell_type": "code",
   "execution_count": 52,
   "id": "0a6c99b6",
   "metadata": {},
   "outputs": [
    {
     "data": {
      "text/html": [
       "<div>\n",
       "<style scoped>\n",
       "    .dataframe tbody tr th:only-of-type {\n",
       "        vertical-align: middle;\n",
       "    }\n",
       "\n",
       "    .dataframe tbody tr th {\n",
       "        vertical-align: top;\n",
       "    }\n",
       "\n",
       "    .dataframe thead th {\n",
       "        text-align: right;\n",
       "    }\n",
       "</style>\n",
       "<table border=\"1\" class=\"dataframe\">\n",
       "  <thead>\n",
       "    <tr style=\"text-align: right;\">\n",
       "      <th></th>\n",
       "      <th>tpr</th>\n",
       "      <th>fpr</th>\n",
       "      <th>thre</th>\n",
       "      <th>tpr-fpr</th>\n",
       "    </tr>\n",
       "  </thead>\n",
       "  <tbody>\n",
       "    <tr>\n",
       "      <th>1482</th>\n",
       "      <td>0.795241</td>\n",
       "      <td>0.250138</td>\n",
       "      <td>0.526987</td>\n",
       "      <td>0.545102</td>\n",
       "    </tr>\n",
       "  </tbody>\n",
       "</table>\n",
       "</div>"
      ],
      "text/plain": [
       "           tpr       fpr      thre   tpr-fpr\n",
       "1482  0.795241  0.250138  0.526987  0.545102"
      ]
     },
     "execution_count": 52,
     "metadata": {},
     "output_type": "execute_result"
    }
   ],
   "source": [
    "roc_df[roc_df[\"tpr-fpr\"]==max(roc_df[\"tpr-fpr\"])]"
   ]
  },
  {
   "cell_type": "code",
   "execution_count": 53,
   "id": "54910275",
   "metadata": {},
   "outputs": [],
   "source": [
    "y_prob = pd.Series(y_pred_prob[:,1])"
   ]
  },
  {
   "cell_type": "code",
   "execution_count": 68,
   "id": "4013b6db",
   "metadata": {},
   "outputs": [],
   "source": [
    "y_pred_train_new = y_prob.apply(lambda x:1 if x>0.526987 else 0)"
   ]
  },
  {
   "cell_type": "code",
   "execution_count": 69,
   "id": "31ff3d5e",
   "metadata": {},
   "outputs": [
    {
     "data": {
      "text/plain": [
       "array([[2710,  904],\n",
       "       [ 740, 2874]], dtype=int64)"
      ]
     },
     "execution_count": 69,
     "metadata": {},
     "output_type": "execute_result"
    }
   ],
   "source": [
    "confusion_matrix(y_train,y_pred_train_new)"
   ]
  },
  {
   "cell_type": "raw",
   "id": "1580203d",
   "metadata": {},
   "source": [
    "array([[2622,  700],\n",
    "       [ 992, 2914]], dtype=int64)"
   ]
  },
  {
   "cell_type": "code",
   "execution_count": 70,
   "id": "a1f07d57",
   "metadata": {},
   "outputs": [
    {
     "name": "stdout",
     "output_type": "stream",
     "text": [
      "              precision    recall  f1-score   support\n",
      "\n",
      "           0       0.79      0.75      0.77      3614\n",
      "           1       0.76      0.80      0.78      3614\n",
      "\n",
      "    accuracy                           0.77      7228\n",
      "   macro avg       0.77      0.77      0.77      7228\n",
      "weighted avg       0.77      0.77      0.77      7228\n",
      "\n"
     ]
    }
   ],
   "source": [
    "print(classification_report(y_train,y_pred_train_new))"
   ]
  },
  {
   "cell_type": "code",
   "execution_count": 71,
   "id": "9bc8b7f9",
   "metadata": {},
   "outputs": [
    {
     "data": {
      "text/plain": [
       "0.7725511898173769"
      ]
     },
     "execution_count": 71,
     "metadata": {},
     "output_type": "execute_result"
    }
   ],
   "source": [
    "accuracy_score(y_train,y_pred_train_new)"
   ]
  },
  {
   "cell_type": "code",
   "execution_count": 72,
   "id": "ec41298f",
   "metadata": {},
   "outputs": [
    {
     "data": {
      "text/plain": [
       "Text(0.5, 1.0, 'FPR vs Threshold\\n')"
      ]
     },
     "execution_count": 72,
     "metadata": {},
     "output_type": "execute_result"
    },
    {
     "data": {
      "image/png": "[encoded data removed]",
      "text/plain": [
       "<Figure size 576x576 with 1 Axes>"
      ]
     },
     "metadata": {
      "needs_background": "light"
     },
     "output_type": "display_data"
    }
   ],
   "source": [
    "plt.figure(figsize=(8,8))\n",
    "plt.plot(thresh,fpr)\n",
    "plt.xlabel(\"Threshold\",fontdict={\"fontsize\":20})\n",
    "plt.ylabel(\"fpr\",fontdict={\"fontsize\":20})\n",
    "plt.title(\"FPR vs Threshold\\n\",fontdict={\"fontsize\":30})"
   ]
  },
  {
   "cell_type": "code",
   "execution_count": 73,
   "id": "480b7427",
   "metadata": {},
   "outputs": [
    {
     "data": {
      "text/plain": [
       "Text(0.5, 1.0, 'FPR vs Threshold\\n')"
      ]
     },
     "execution_count": 73,
     "metadata": {},
     "output_type": "execute_result"
    },
    {
     "data": {
      "image/png": "[encoded data removed]",
      "text/plain": [
       "<Figure size 576x576 with 1 Axes>"
      ]
     },
     "metadata": {
      "needs_background": "light"
     },
     "output_type": "display_data"
    }
   ],
   "source": [
    "plt.figure(figsize=(8,8))\n",
    "plt.plot(thresh,tpr,)\n",
    "plt.xlabel(\"Threshold\",fontdict={\"fontsize\":20})\n",
    "plt.ylabel(\"tpr\",fontdict={\"fontsize\":20})\n",
    "plt.title(\"FPR vs Threshold\\n\",fontdict={\"fontsize\":30})"
   ]
  },
  {
   "cell_type": "code",
   "execution_count": 74,
   "id": "089ec7aa",
   "metadata": {},
   "outputs": [
    {
     "data": {
      "text/plain": [
       "Text(0, 0.5, 'Scale')"
      ]
     },
     "execution_count": 74,
     "metadata": {},
     "output_type": "execute_result"
    },
    {
     "data": {
      "image/png": "[encoded data removed]",
      "text/plain": [
       "<Figure size 576x576 with 1 Axes>"
      ]
     },
     "metadata": {
      "needs_background": "light"
     },
     "output_type": "display_data"
    }
   ],
   "source": [
    "plt.figure(figsize=(8,8))\n",
    "plt.plot(thresh,fpr)\n",
    "plt.plot(thresh,tpr)\n",
    "plt.legend([\"fpr\",\"tpr\"])\n",
    "plt.xlabel(\"Threshold\",fontdict={\"fontsize\":20})\n",
    "plt.ylabel(\"Scale\",fontdict={\"fontsize\":20})"
   ]
  },
  {
   "cell_type": "code",
   "execution_count": 75,
   "id": "be7e1bd0",
   "metadata": {},
   "outputs": [
    {
     "data": {
      "text/plain": [
       "7840    1\n",
       "5781    0\n",
       "4799    0\n",
       "6828    1\n",
       "2365    0\n",
       "       ..\n",
       "8749    1\n",
       "1772    0\n",
       "2905    0\n",
       "1759    0\n",
       "2869    0\n",
       "Name: Churn, Length: 7228, dtype: int64"
      ]
     },
     "execution_count": 75,
     "metadata": {},
     "output_type": "execute_result"
    }
   ],
   "source": [
    "y_train"
   ]
  },
  {
   "cell_type": "code",
   "execution_count": 76,
   "id": "73da30fb",
   "metadata": {},
   "outputs": [
    {
     "data": {
      "text/plain": [
       "SeniorCitizen                               0\n",
       "tenure                                     40\n",
       "gender_Female                               1\n",
       "gender_Male                                 0\n",
       "Partner_No                                  0\n",
       "Partner_Yes                                 1\n",
       "Dependents_No                               0\n",
       "Dependents_Yes                              1\n",
       "PhoneService_No                             1\n",
       "PhoneService_Yes                            0\n",
       "MultipleLines_No                            0\n",
       "MultipleLines_No phone service              1\n",
       "MultipleLines_Yes                           0\n",
       "InternetService_DSL                         1\n",
       "InternetService_Fiber optic                 0\n",
       "InternetService_No                          0\n",
       "OnlineSecurity_No                           1\n",
       "OnlineSecurity_No internet service          0\n",
       "OnlineSecurity_Yes                          0\n",
       "OnlineBackup_No                             0\n",
       "OnlineBackup_No internet service            0\n",
       "OnlineBackup_Yes                            1\n",
       "DeviceProtection_No                         1\n",
       "DeviceProtection_No internet service        0\n",
       "DeviceProtection_Yes                        0\n",
       "TechSupport_No                              1\n",
       "TechSupport_No internet service             0\n",
       "TechSupport_Yes                             0\n",
       "StreamingTV_No                              0\n",
       "StreamingTV_No internet service             0\n",
       "StreamingTV_Yes                             1\n",
       "StreamingMovies_No                          0\n",
       "StreamingMovies_No internet service         0\n",
       "StreamingMovies_Yes                         1\n",
       "Contract_Month-to-month                     1\n",
       "Contract_One year                           0\n",
       "Contract_Two year                           0\n",
       "PaperlessBilling_No                         0\n",
       "PaperlessBilling_Yes                        1\n",
       "PaymentMethod_Bank transfer (automatic)     0\n",
       "PaymentMethod_Credit card (automatic)       0\n",
       "PaymentMethod_Electronic check              1\n",
       "PaymentMethod_Mailed check                  0\n",
       "Name: 5781, dtype: int64"
      ]
     },
     "execution_count": 76,
     "metadata": {},
     "output_type": "execute_result"
    }
   ],
   "source": [
    "x_train.iloc[1]"
   ]
  },
  {
   "cell_type": "code",
   "execution_count": 77,
   "id": "c48b9991",
   "metadata": {},
   "outputs": [],
   "source": [
    "Original_features = x_original.columns.tolist()"
   ]
  },
  {
   "cell_type": "code",
   "execution_count": 78,
   "id": "0b9c30fd",
   "metadata": {},
   "outputs": [],
   "source": [
    "Features = x.columns.tolist()"
   ]
  },
  {
   "cell_type": "code",
   "execution_count": 79,
   "id": "0bc4f401",
   "metadata": {},
   "outputs": [],
   "source": [
    "model_data = {\n",
    "    \n",
    "    \"Original_features\":Original_features,\n",
    "    \"Features\":Features\n",
    "}"
   ]
  },
  {
   "cell_type": "code",
   "execution_count": 80,
   "id": "a6c23b91",
   "metadata": {},
   "outputs": [],
   "source": [
    "with open(\"churn_model.pkl\",\"wb\") as f:\n",
    "    pickle.dump(LogReg_model,f)\n"
   ]
  },
  {
   "cell_type": "code",
   "execution_count": 81,
   "id": "dad1d873",
   "metadata": {},
   "outputs": [],
   "source": [
    "with open(\"model_data.json\",\"w\") as f:\n",
    "    json.dump(model_data,f)"
   ]
  },
  {
   "cell_type": "code",
   "execution_count": null,
   "id": "76ba6b1d",
   "metadata": {},
   "outputs": [],
   "source": []
  },
  {
   "cell_type": "code",
   "execution_count": null,
   "id": "f346a06d",
   "metadata": {},
   "outputs": [],
   "source": []
  }
 ],
 "metadata": {
  "kernelspec": {
   "display_name": "Python 3 (ipykernel)",
   "language": "python",
   "name": "python3"
  },
  "language_info": {
   "codemirror_mode": {
    "name": "ipython",
    "version": 3
   },
   "file_extension": ".py",
   "mimetype": "text/x-python",
   "name": "python",
   "nbconvert_exporter": "python",
   "pygments_lexer": "ipython3",
   "version": "3.9.12"
  }
 },
 "nbformat": 4,
 "nbformat_minor": 5
}
